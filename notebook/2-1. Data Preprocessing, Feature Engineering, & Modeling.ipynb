{
 "cells": [
  {
   "cell_type": "markdown",
   "metadata": {},
   "source": [
    "# Data Preprocessing, Feature Engineering, & Modeling\n",
    "IF4041 - Data Science & Data Mining assignment: Fraud Detection.  \n",
    "By  \n",
    "13516015 [Michelle Eliza Gananjaya](github.com/)  \n",
    "13516030 [Yonas Adiel Wiguna](github.com/)  \n",
    "13516101 [Kelvin Kristian](github.com/)  \n",
    "13516140 [Ilham Firdausi Putra](github.com/ilhamfp)  \n"
   ]
  },
  {
   "cell_type": "markdown",
   "metadata": {},
   "source": [
    "# Load Data"
   ]
  },
  {
   "cell_type": "code",
   "execution_count": 1,
   "metadata": {},
   "outputs": [],
   "source": [
    "import pandas as pd\n",
    "import numpy as np\n",
    "import os\n",
    "import matplotlib.pyplot as plt\n",
    "import seaborn as sns\n",
    "\n",
    "import warnings\n",
    "warnings.filterwarnings('ignore')\n",
    "\n",
    "DIR_DATA_RAW = '../data/raw'\n",
    "DIR_DATA_INTERIM = '../data/interim'"
   ]
  },
  {
   "cell_type": "code",
   "execution_count": 2,
   "metadata": {},
   "outputs": [],
   "source": [
    "def get_filepaths(directory):\n",
    "    \"\"\"\n",
    "    This function will generate the file names in a directory \n",
    "    tree by walking the tree either top-down or bottom-up. For each \n",
    "    directory in the tree rooted at directory top (including top itself), \n",
    "    it yields a 3-tuple (dirpath, dirnames, filenames).\n",
    "    \"\"\"\n",
    "    file_paths = []  # List which will store all of the full filepaths.\n",
    "\n",
    "    # Walk the tree.\n",
    "    for root, directories, files in os.walk(directory):\n",
    "        for filename in files:\n",
    "            # Join the two strings in order to form the full filepath.\n",
    "            filepath = os.path.join(root, filename)\n",
    "            file_paths.append(filepath)  # Add it to the list.\n",
    "\n",
    "    return file_paths  # Self-explanatory.\n",
    "\n",
    "def load_data(DIR_DATA_RAW):\n",
    "    \"\"\"Load data and label from the given directory path\n",
    "    \n",
    "    **Args**:\n",
    "    * DIR_DATA_RAW (string): Path to the raw directory\n",
    "    \n",
    "    **Return**:\n",
    "    * data (dataframe) \n",
    "    * label (dataframe)\n",
    "    \"\"\"\n",
    "    file_paths = get_filepaths(DIR_DATA_RAW)\n",
    "    file_paths = [path for path in file_paths if (path.endswith(\"Inputs\") or path.endswith(\"Targets\"))]\n",
    "    file_paths.sort()\n",
    "    \n",
    "    print(\"Loading data from: \")\n",
    "    for x in file_paths[:4]:\n",
    "        print(x)\n",
    "        \n",
    "    data = pd.DataFrame()\n",
    "    label = pd.DataFrame()\n",
    "\n",
    "    for i in range(0, len(file_paths[:4]), 2):\n",
    "        cur_data = pd.read_csv(file_paths[i])\n",
    "        cur_label = pd.read_csv(file_paths[i+1], header=None)\n",
    "\n",
    "        data = pd.concat([data, cur_data])\n",
    "        label = pd.concat([label, cur_label])\n",
    "        \n",
    "    label.columns = ['label']\n",
    "    data = data.reset_index(drop=True)\n",
    "    label = label.reset_index(drop=True)\n",
    "    return data, label"
   ]
  },
  {
   "cell_type": "code",
   "execution_count": 3,
   "metadata": {},
   "outputs": [
    {
     "name": "stdout",
     "output_type": "stream",
     "text": [
      "Loading data from: \n",
      "../data/raw/DataminingContest2009.Task1.CV1.Test.Inputs\n",
      "../data/raw/DataminingContest2009.Task1.CV1.Test.Targets\n",
      "../data/raw/DataminingContest2009.Task1.CV1.Train.Inputs\n",
      "../data/raw/DataminingContest2009.Task1.CV1.Train.Targets\n"
     ]
    }
   ],
   "source": [
    "data, label = load_data(DIR_DATA_RAW)"
   ]
  },
  {
   "cell_type": "code",
   "execution_count": 4,
   "metadata": {},
   "outputs": [
    {
     "name": "stdout",
     "output_type": "stream",
     "text": [
      "(94682, 19)\n"
     ]
    },
    {
     "data": {
      "text/html": [
       "<div>\n",
       "<style scoped>\n",
       "    .dataframe tbody tr th:only-of-type {\n",
       "        vertical-align: middle;\n",
       "    }\n",
       "\n",
       "    .dataframe tbody tr th {\n",
       "        vertical-align: top;\n",
       "    }\n",
       "\n",
       "    .dataframe thead th {\n",
       "        text-align: right;\n",
       "    }\n",
       "</style>\n",
       "<table border=\"1\" class=\"dataframe\">\n",
       "  <thead>\n",
       "    <tr style=\"text-align: right;\">\n",
       "      <th></th>\n",
       "      <th>amount</th>\n",
       "      <th>hour1</th>\n",
       "      <th>state1</th>\n",
       "      <th>zip1</th>\n",
       "      <th>field1</th>\n",
       "      <th>domain1</th>\n",
       "      <th>field2</th>\n",
       "      <th>hour2</th>\n",
       "      <th>flag1</th>\n",
       "      <th>total</th>\n",
       "      <th>field3</th>\n",
       "      <th>field4</th>\n",
       "      <th>field5</th>\n",
       "      <th>indicator1</th>\n",
       "      <th>indicator2</th>\n",
       "      <th>flag2</th>\n",
       "      <th>flag3</th>\n",
       "      <th>flag4</th>\n",
       "      <th>flag5</th>\n",
       "    </tr>\n",
       "  </thead>\n",
       "  <tbody>\n",
       "    <tr>\n",
       "      <th>0</th>\n",
       "      <td>25.90</td>\n",
       "      <td>0</td>\n",
       "      <td>FL</td>\n",
       "      <td>331</td>\n",
       "      <td>3</td>\n",
       "      <td>BELLSOUTH.NET</td>\n",
       "      <td>1</td>\n",
       "      <td>0</td>\n",
       "      <td>1</td>\n",
       "      <td>25.90</td>\n",
       "      <td>3878</td>\n",
       "      <td>8</td>\n",
       "      <td>0</td>\n",
       "      <td>0</td>\n",
       "      <td>0</td>\n",
       "      <td>0</td>\n",
       "      <td>1</td>\n",
       "      <td>0</td>\n",
       "      <td>1</td>\n",
       "    </tr>\n",
       "    <tr>\n",
       "      <th>1</th>\n",
       "      <td>38.85</td>\n",
       "      <td>0</td>\n",
       "      <td>TX</td>\n",
       "      <td>750</td>\n",
       "      <td>2</td>\n",
       "      <td>COMCAST.NET</td>\n",
       "      <td>1</td>\n",
       "      <td>0</td>\n",
       "      <td>0</td>\n",
       "      <td>38.85</td>\n",
       "      <td>-6330</td>\n",
       "      <td>21</td>\n",
       "      <td>1</td>\n",
       "      <td>0</td>\n",
       "      <td>0</td>\n",
       "      <td>1</td>\n",
       "      <td>1</td>\n",
       "      <td>0</td>\n",
       "      <td>1</td>\n",
       "    </tr>\n",
       "    <tr>\n",
       "      <th>2</th>\n",
       "      <td>38.85</td>\n",
       "      <td>1</td>\n",
       "      <td>VA</td>\n",
       "      <td>222</td>\n",
       "      <td>2</td>\n",
       "      <td>HOTMAIL.COM</td>\n",
       "      <td>0</td>\n",
       "      <td>1</td>\n",
       "      <td>0</td>\n",
       "      <td>38.85</td>\n",
       "      <td>5183</td>\n",
       "      <td>19</td>\n",
       "      <td>1</td>\n",
       "      <td>0</td>\n",
       "      <td>0</td>\n",
       "      <td>0</td>\n",
       "      <td>0</td>\n",
       "      <td>0</td>\n",
       "      <td>1</td>\n",
       "    </tr>\n",
       "    <tr>\n",
       "      <th>3</th>\n",
       "      <td>24.95</td>\n",
       "      <td>1</td>\n",
       "      <td>CA</td>\n",
       "      <td>946</td>\n",
       "      <td>0</td>\n",
       "      <td>GMAIL.COM</td>\n",
       "      <td>0</td>\n",
       "      <td>1</td>\n",
       "      <td>0</td>\n",
       "      <td>24.95</td>\n",
       "      <td>3822</td>\n",
       "      <td>16</td>\n",
       "      <td>0</td>\n",
       "      <td>0</td>\n",
       "      <td>0</td>\n",
       "      <td>0</td>\n",
       "      <td>0</td>\n",
       "      <td>0</td>\n",
       "      <td>1</td>\n",
       "    </tr>\n",
       "    <tr>\n",
       "      <th>4</th>\n",
       "      <td>20.72</td>\n",
       "      <td>1</td>\n",
       "      <td>CO</td>\n",
       "      <td>805</td>\n",
       "      <td>3</td>\n",
       "      <td>LEVEL3.COM</td>\n",
       "      <td>0</td>\n",
       "      <td>1</td>\n",
       "      <td>1</td>\n",
       "      <td>20.72</td>\n",
       "      <td>3536</td>\n",
       "      <td>8</td>\n",
       "      <td>1</td>\n",
       "      <td>0</td>\n",
       "      <td>0</td>\n",
       "      <td>1</td>\n",
       "      <td>1</td>\n",
       "      <td>0</td>\n",
       "      <td>1</td>\n",
       "    </tr>\n",
       "  </tbody>\n",
       "</table>\n",
       "</div>"
      ],
      "text/plain": [
       "   amount  hour1 state1  zip1  field1        domain1  field2  hour2  flag1  \\\n",
       "0   25.90      0     FL   331       3  BELLSOUTH.NET       1      0      1   \n",
       "1   38.85      0     TX   750       2    COMCAST.NET       1      0      0   \n",
       "2   38.85      1     VA   222       2    HOTMAIL.COM       0      1      0   \n",
       "3   24.95      1     CA   946       0      GMAIL.COM       0      1      0   \n",
       "4   20.72      1     CO   805       3     LEVEL3.COM       0      1      1   \n",
       "\n",
       "   total  field3  field4  field5  indicator1  indicator2  flag2  flag3  flag4  \\\n",
       "0  25.90    3878       8       0           0           0      0      1      0   \n",
       "1  38.85   -6330      21       1           0           0      1      1      0   \n",
       "2  38.85    5183      19       1           0           0      0      0      0   \n",
       "3  24.95    3822      16       0           0           0      0      0      0   \n",
       "4  20.72    3536       8       1           0           0      1      1      0   \n",
       "\n",
       "   flag5  \n",
       "0      1  \n",
       "1      1  \n",
       "2      1  \n",
       "3      1  \n",
       "4      1  "
      ]
     },
     "execution_count": 4,
     "metadata": {},
     "output_type": "execute_result"
    }
   ],
   "source": [
    "print(data.shape)\n",
    "data.head()"
   ]
  },
  {
   "cell_type": "code",
   "execution_count": 5,
   "metadata": {},
   "outputs": [
    {
     "name": "stdout",
     "output_type": "stream",
     "text": [
      "(94682, 1)\n"
     ]
    },
    {
     "data": {
      "text/html": [
       "<div>\n",
       "<style scoped>\n",
       "    .dataframe tbody tr th:only-of-type {\n",
       "        vertical-align: middle;\n",
       "    }\n",
       "\n",
       "    .dataframe tbody tr th {\n",
       "        vertical-align: top;\n",
       "    }\n",
       "\n",
       "    .dataframe thead th {\n",
       "        text-align: right;\n",
       "    }\n",
       "</style>\n",
       "<table border=\"1\" class=\"dataframe\">\n",
       "  <thead>\n",
       "    <tr style=\"text-align: right;\">\n",
       "      <th></th>\n",
       "      <th>label</th>\n",
       "    </tr>\n",
       "  </thead>\n",
       "  <tbody>\n",
       "    <tr>\n",
       "      <th>94677</th>\n",
       "      <td>0</td>\n",
       "    </tr>\n",
       "    <tr>\n",
       "      <th>94678</th>\n",
       "      <td>0</td>\n",
       "    </tr>\n",
       "    <tr>\n",
       "      <th>94679</th>\n",
       "      <td>1</td>\n",
       "    </tr>\n",
       "    <tr>\n",
       "      <th>94680</th>\n",
       "      <td>1</td>\n",
       "    </tr>\n",
       "    <tr>\n",
       "      <th>94681</th>\n",
       "      <td>1</td>\n",
       "    </tr>\n",
       "  </tbody>\n",
       "</table>\n",
       "</div>"
      ],
      "text/plain": [
       "       label\n",
       "94677      0\n",
       "94678      0\n",
       "94679      1\n",
       "94680      1\n",
       "94681      1"
      ]
     },
     "execution_count": 5,
     "metadata": {},
     "output_type": "execute_result"
    }
   ],
   "source": [
    "print(label.shape)\n",
    "label.tail()"
   ]
  },
  {
   "cell_type": "markdown",
   "metadata": {},
   "source": [
    "# Data Preprocessing & Feature Engineering"
   ]
  },
  {
   "cell_type": "code",
   "execution_count": 6,
   "metadata": {},
   "outputs": [],
   "source": [
    "from sklearn import preprocessing\n",
    "\n",
    "def label_encode(data):\n",
    "    \"\"\"Hehuhehue Given array of data, label encode.\n",
    "    \"\"\"\n",
    "    \n",
    "    le = preprocessing.LabelEncoder()\n",
    "    return le.fit_transform(data)\n",
    "\n",
    "\n",
    "def preprocess(data):\n",
    "    \"\"\"Generating preprocess data.\n",
    "    \n",
    "    **Args**:\n",
    "    * data (dataframe): The data points\n",
    "    \n",
    "    **Return**:\n",
    "    * new_data (dataframe): New data points dataframe with new preprocessed feature\n",
    "    \"\"\"\n",
    "    \n",
    "    # We label encode state1 & domain1 because its massive amount of unique values.\n",
    "    # One-hot encoding is infeasible in this case.\n",
    "    data['state1'] = label_encode(data['state1'].astype(str).values)\n",
    "    data['domain1'] = label_encode(data['domain1'].astype(str).values)\n",
    "    \n",
    "    # TODO: Data domain1 ada yang null 1, enaknya diapain ya? sekarang gw isi modus doang\n",
    "    data['domain1'] = data['domain1'].fillna(data['domain1'].mode()[0])\n",
    "    \n",
    "    \n",
    "    # TODO: apa lagi ya\n",
    "    \n",
    "    return data\n",
    "\n",
    "def generate_new_feature(data):\n",
    "    \"\"\"Generating new feature.\n",
    "    \n",
    "    **Args**:\n",
    "    * data (dataframe): The data points\n",
    "    \n",
    "    **Return**:\n",
    "    * new_data (dataframe): New data points dataframe with new engineered feature\n",
    "    \"\"\"\n",
    "    # Bisa coba tambahin fitur:\n",
    "    # 1. pisahin domain1 jadi nama domainnya dan top level domainnnya? Contoh: BELLSOUTH & NET\n",
    "    # 2. apa lagi ya, yang nomor 1 terinspirasi dari kompetisi kaggle ini sih https://www.kaggle.com/c/ieee-fraud-detection ada yang bikin feature kaya gitu\n",
    "    #\n",
    "    \n",
    "    return data"
   ]
  },
  {
   "cell_type": "code",
   "execution_count": 7,
   "metadata": {},
   "outputs": [],
   "source": [
    "data = preprocess(data)\n",
    "data = generate_new_feature(data)"
   ]
  },
  {
   "cell_type": "code",
   "execution_count": 8,
   "metadata": {},
   "outputs": [
    {
     "data": {
      "text/html": [
       "<div>\n",
       "<style scoped>\n",
       "    .dataframe tbody tr th:only-of-type {\n",
       "        vertical-align: middle;\n",
       "    }\n",
       "\n",
       "    .dataframe tbody tr th {\n",
       "        vertical-align: top;\n",
       "    }\n",
       "\n",
       "    .dataframe thead th {\n",
       "        text-align: right;\n",
       "    }\n",
       "</style>\n",
       "<table border=\"1\" class=\"dataframe\">\n",
       "  <thead>\n",
       "    <tr style=\"text-align: right;\">\n",
       "      <th></th>\n",
       "      <th>amount</th>\n",
       "      <th>hour1</th>\n",
       "      <th>state1</th>\n",
       "      <th>zip1</th>\n",
       "      <th>field1</th>\n",
       "      <th>domain1</th>\n",
       "      <th>field2</th>\n",
       "      <th>hour2</th>\n",
       "      <th>flag1</th>\n",
       "      <th>total</th>\n",
       "      <th>field3</th>\n",
       "      <th>field4</th>\n",
       "      <th>field5</th>\n",
       "      <th>indicator1</th>\n",
       "      <th>indicator2</th>\n",
       "      <th>flag2</th>\n",
       "      <th>flag3</th>\n",
       "      <th>flag4</th>\n",
       "      <th>flag5</th>\n",
       "    </tr>\n",
       "  </thead>\n",
       "  <tbody>\n",
       "    <tr>\n",
       "      <th>0</th>\n",
       "      <td>25.90</td>\n",
       "      <td>0</td>\n",
       "      <td>11</td>\n",
       "      <td>331</td>\n",
       "      <td>3</td>\n",
       "      <td>494</td>\n",
       "      <td>1</td>\n",
       "      <td>0</td>\n",
       "      <td>1</td>\n",
       "      <td>25.90</td>\n",
       "      <td>3878</td>\n",
       "      <td>8</td>\n",
       "      <td>0</td>\n",
       "      <td>0</td>\n",
       "      <td>0</td>\n",
       "      <td>0</td>\n",
       "      <td>1</td>\n",
       "      <td>0</td>\n",
       "      <td>1</td>\n",
       "    </tr>\n",
       "    <tr>\n",
       "      <th>1</th>\n",
       "      <td>38.85</td>\n",
       "      <td>0</td>\n",
       "      <td>45</td>\n",
       "      <td>750</td>\n",
       "      <td>2</td>\n",
       "      <td>1102</td>\n",
       "      <td>1</td>\n",
       "      <td>0</td>\n",
       "      <td>0</td>\n",
       "      <td>38.85</td>\n",
       "      <td>-6330</td>\n",
       "      <td>21</td>\n",
       "      <td>1</td>\n",
       "      <td>0</td>\n",
       "      <td>0</td>\n",
       "      <td>1</td>\n",
       "      <td>1</td>\n",
       "      <td>0</td>\n",
       "      <td>1</td>\n",
       "    </tr>\n",
       "    <tr>\n",
       "      <th>2</th>\n",
       "      <td>38.85</td>\n",
       "      <td>1</td>\n",
       "      <td>47</td>\n",
       "      <td>222</td>\n",
       "      <td>2</td>\n",
       "      <td>3021</td>\n",
       "      <td>0</td>\n",
       "      <td>1</td>\n",
       "      <td>0</td>\n",
       "      <td>38.85</td>\n",
       "      <td>5183</td>\n",
       "      <td>19</td>\n",
       "      <td>1</td>\n",
       "      <td>0</td>\n",
       "      <td>0</td>\n",
       "      <td>0</td>\n",
       "      <td>0</td>\n",
       "      <td>0</td>\n",
       "      <td>1</td>\n",
       "    </tr>\n",
       "    <tr>\n",
       "      <th>3</th>\n",
       "      <td>24.95</td>\n",
       "      <td>1</td>\n",
       "      <td>6</td>\n",
       "      <td>946</td>\n",
       "      <td>0</td>\n",
       "      <td>2620</td>\n",
       "      <td>0</td>\n",
       "      <td>1</td>\n",
       "      <td>0</td>\n",
       "      <td>24.95</td>\n",
       "      <td>3822</td>\n",
       "      <td>16</td>\n",
       "      <td>0</td>\n",
       "      <td>0</td>\n",
       "      <td>0</td>\n",
       "      <td>0</td>\n",
       "      <td>0</td>\n",
       "      <td>0</td>\n",
       "      <td>1</td>\n",
       "    </tr>\n",
       "    <tr>\n",
       "      <th>4</th>\n",
       "      <td>20.72</td>\n",
       "      <td>1</td>\n",
       "      <td>7</td>\n",
       "      <td>805</td>\n",
       "      <td>3</td>\n",
       "      <td>4319</td>\n",
       "      <td>0</td>\n",
       "      <td>1</td>\n",
       "      <td>1</td>\n",
       "      <td>20.72</td>\n",
       "      <td>3536</td>\n",
       "      <td>8</td>\n",
       "      <td>1</td>\n",
       "      <td>0</td>\n",
       "      <td>0</td>\n",
       "      <td>1</td>\n",
       "      <td>1</td>\n",
       "      <td>0</td>\n",
       "      <td>1</td>\n",
       "    </tr>\n",
       "  </tbody>\n",
       "</table>\n",
       "</div>"
      ],
      "text/plain": [
       "   amount  hour1  state1  zip1  field1  domain1  field2  hour2  flag1  total  \\\n",
       "0   25.90      0      11   331       3      494       1      0      1  25.90   \n",
       "1   38.85      0      45   750       2     1102       1      0      0  38.85   \n",
       "2   38.85      1      47   222       2     3021       0      1      0  38.85   \n",
       "3   24.95      1       6   946       0     2620       0      1      0  24.95   \n",
       "4   20.72      1       7   805       3     4319       0      1      1  20.72   \n",
       "\n",
       "   field3  field4  field5  indicator1  indicator2  flag2  flag3  flag4  flag5  \n",
       "0    3878       8       0           0           0      0      1      0      1  \n",
       "1   -6330      21       1           0           0      1      1      0      1  \n",
       "2    5183      19       1           0           0      0      0      0      1  \n",
       "3    3822      16       0           0           0      0      0      0      1  \n",
       "4    3536       8       1           0           0      1      1      0      1  "
      ]
     },
     "execution_count": 8,
     "metadata": {},
     "output_type": "execute_result"
    }
   ],
   "source": [
    "data.head()"
   ]
  },
  {
   "cell_type": "markdown",
   "metadata": {},
   "source": [
    "# Model"
   ]
  },
  {
   "cell_type": "code",
   "execution_count": 9,
   "metadata": {},
   "outputs": [],
   "source": [
    "from lightgbm import LGBMClassifier\n",
    "from xgboost import XGBClassifier\n",
    "from sklearn.ensemble import RandomForestClassifier\n",
    "from sklearn.model_selection import cross_val_score, StratifiedKFold\n",
    "from sklearn.metrics import f1_score\n",
    "\n",
    "def get_skfold():\n",
    "    return StratifiedKFold(n_splits=5, shuffle=True, random_state=1)"
   ]
  },
  {
   "cell_type": "markdown",
   "metadata": {},
   "source": [
    "## LightGBM"
   ]
  },
  {
   "cell_type": "code",
   "execution_count": 10,
   "metadata": {},
   "outputs": [],
   "source": [
    "def get_lgbm_model(X, y):\n",
    "    \"\"\"Run LightGBM model to produce its out-of-fold prediction\n",
    "    or test prediction if X_test is provided.\n",
    "    \n",
    "    **Args**:\n",
    "    * X (dataframe): Dataframe containing features\n",
    "    * y (numpy array): Numpy array containing label\n",
    "    \n",
    "    **Return**:\n",
    "    * lightgbm_oof (numpy array) : Numpy array containing out-of-fold prediction / test prediction\n",
    "    \"\"\"\n",
    "    \n",
    "    lightgbm_param = {'random_state': 1}\n",
    "    \n",
    "    lightgbm_pred = np.zeros(len(y))\n",
    "    count = 0\n",
    "\n",
    "    for train_index, test_index in get_skfold().split(X, y):\n",
    "        count += 1\n",
    "        clf = LGBMClassifier(**lightgbm_param)\n",
    "        clf.fit(X.loc[train_index,:], y[train_index])\n",
    "        lightgbm_pred[[test_index]] = clf.predict_proba(X.loc[test_index,:])[:,1]\n",
    "\n",
    "    return lightgbm_pred"
   ]
  },
  {
   "cell_type": "code",
   "execution_count": 11,
   "metadata": {},
   "outputs": [],
   "source": [
    "lightgbm_pred = get_lgbm_model(data, label.label.values)"
   ]
  },
  {
   "cell_type": "code",
   "execution_count": 12,
   "metadata": {},
   "outputs": [
    {
     "name": "stdout",
     "output_type": "stream",
     "text": [
      "F1 Score: 0.4138171667829728\n"
     ]
    }
   ],
   "source": [
    "threshold = 0.5\n",
    "lightgbm_pred_binary = [1 if x > threshold else 0 for x in lightgbm_pred]\n",
    "print(\"F1 Score: {}\".format(f1_score(label.label.values, lightgbm_pred_binary)))"
   ]
  },
  {
   "cell_type": "markdown",
   "metadata": {},
   "source": [
    "## XGBoost"
   ]
  },
  {
   "cell_type": "code",
   "execution_count": 13,
   "metadata": {},
   "outputs": [],
   "source": [
    "def get_xgb_model(X, y):\n",
    "    \"\"\"Run XGBoost model to produce its out-of-fold prediction\n",
    "    or test prediction if X_test is provided.\n",
    "    \n",
    "    **Args**:\n",
    "    * X (dataframe): Dataframe containing features\n",
    "    * y (numpy array): Numpy array containing label\n",
    "    \n",
    "    **Return**:\n",
    "    * xgboost_oof (numpy array) : Numpy array containing out-of-fold prediction / test prediction\n",
    "    \"\"\"\n",
    "    \n",
    "    xgboost_param = {'random_state': 1}\n",
    "   \n",
    "    \n",
    "    xgboost_pred = np.zeros(len(y))\n",
    "    count = 0\n",
    "\n",
    "    for train_index, test_index in get_skfold().split(X, y):\n",
    "        count += 1\n",
    "        clf = XGBClassifier(**xgboost_param)\n",
    "        clf.fit(X.loc[train_index,:], y[train_index])\n",
    "        xgboost_pred[[test_index]] = clf.predict_proba(X.loc[test_index,:])[:,1]\n",
    "\n",
    "    return xgboost_pred"
   ]
  },
  {
   "cell_type": "code",
   "execution_count": 14,
   "metadata": {},
   "outputs": [],
   "source": [
    "xgboost_pred = get_xgb_model(data, label.label.values)"
   ]
  },
  {
   "cell_type": "code",
   "execution_count": 15,
   "metadata": {},
   "outputs": [
    {
     "name": "stdout",
     "output_type": "stream",
     "text": [
      "F1 Score: 0.31452859350850076\n"
     ]
    }
   ],
   "source": [
    "threshold = 0.5\n",
    "xgboost_pred_binary = [1 if x > threshold else 0 for x in xgboost_pred]\n",
    "print(\"F1 Score: {}\".format(f1_score(label.label.values, xgboost_pred_binary)))"
   ]
  },
  {
   "cell_type": "markdown",
   "metadata": {},
   "source": [
    "## Random Forest"
   ]
  },
  {
   "cell_type": "code",
   "execution_count": 16,
   "metadata": {},
   "outputs": [],
   "source": [
    "def get_rf_model(X, y):\n",
    "    \"\"\"Run Random Forest model to produce its out-of-fold prediction\n",
    "    or test prediction if X_test is provided.\n",
    "    \n",
    "    **Args**:\n",
    "    * X (dataframe): Dataframe containing features\n",
    "    * y (numpy array): Numpy array containing label\n",
    "    \n",
    "    **Return**:\n",
    "    * rf_pred (numpy array) : Numpy array containing out-of-fold prediction / test prediction\n",
    "    \"\"\"\n",
    "    \n",
    "    rf_param = {'random_state': 1}\n",
    "    \n",
    "    rf_pred = np.zeros(len(y))\n",
    "    count = 0\n",
    "\n",
    "    for train_index, test_index in get_skfold().split(X, y):\n",
    "        count += 1\n",
    "        clf = RandomForestClassifier(**rf_param)\n",
    "        clf.fit(X.loc[train_index,:], y[train_index])\n",
    "        rf_pred[[test_index]] = clf.predict_proba(X.loc[test_index,:])[:,1]\n",
    "\n",
    "    return rf_pred"
   ]
  },
  {
   "cell_type": "code",
   "execution_count": 17,
   "metadata": {},
   "outputs": [],
   "source": [
    "rf_pred = get_rf_model(data, label.label.values)"
   ]
  },
  {
   "cell_type": "code",
   "execution_count": 18,
   "metadata": {},
   "outputs": [
    {
     "name": "stdout",
     "output_type": "stream",
     "text": [
      "F1 Score: 0.4732203389830508\n"
     ]
    }
   ],
   "source": [
    "threshold = 0.5\n",
    "rf_pred_binary = [1 if x > threshold else 0 for x in rf_pred]\n",
    "print(\"F1 Score: {}\".format(f1_score(label.label.values, rf_pred_binary)))"
   ]
  },
  {
   "cell_type": "markdown",
   "metadata": {},
   "source": [
    "## Ensemble"
   ]
  },
  {
   "cell_type": "code",
   "execution_count": 19,
   "metadata": {},
   "outputs": [],
   "source": [
    "# Ini kita cobain teknik ensemble\n",
    "# Ngegabungin hasil probability prediksi 3 classifier sebelumnya\n",
    "# Ini untuk sekarang kita hard code aja nilai persentasenya\n",
    "ensemble_pred = (lightgbm_pred*0.2) + (xgboost_pred*0.1) + (rf_pred*0.7)"
   ]
  },
  {
   "cell_type": "code",
   "execution_count": 20,
   "metadata": {},
   "outputs": [
    {
     "name": "stdout",
     "output_type": "stream",
     "text": [
      "F1 Score: 0.4733606557377049\n"
     ]
    }
   ],
   "source": [
    "threshold = 0.5\n",
    "ensemble_pred_binary = [1 if x > threshold else 0 for x in ensemble_pred]\n",
    "print(\"F1 Score: {}\".format(f1_score(label.label.values, ensemble_pred_binary)))"
   ]
  },
  {
   "cell_type": "code",
   "execution_count": null,
   "metadata": {},
   "outputs": [],
   "source": []
  }
 ],
 "metadata": {
  "kernelspec": {
   "display_name": "Python 3",
   "language": "python",
   "name": "python3"
  },
  "language_info": {
   "codemirror_mode": {
    "name": "ipython",
    "version": 3
   },
   "file_extension": ".py",
   "mimetype": "text/x-python",
   "name": "python",
   "nbconvert_exporter": "python",
   "pygments_lexer": "ipython3",
   "version": "3.6.8"
  }
 },
 "nbformat": 4,
 "nbformat_minor": 2
}
