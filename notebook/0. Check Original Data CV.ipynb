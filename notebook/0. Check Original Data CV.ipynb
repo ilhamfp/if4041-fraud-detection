{
 "cells": [
  {
   "cell_type": "markdown",
   "metadata": {},
   "source": [
    "# Check Original Data CV"
   ]
  },
  {
   "cell_type": "code",
   "execution_count": 1,
   "metadata": {},
   "outputs": [],
   "source": [
    "import pandas as pd\n",
    "import numpy as np\n",
    "import os\n",
    "\n",
    "import warnings\n",
    "warnings.filterwarnings('ignore')\n",
    "\n",
    "DIR_DATA_RAW = '../data/raw'\n",
    "DIR_DATA_INTERIM = '../data/interim'"
   ]
  },
  {
   "cell_type": "code",
   "execution_count": 2,
   "metadata": {},
   "outputs": [],
   "source": [
    "def get_filepaths(directory):\n",
    "    \"\"\"\n",
    "    This function will generate the file names in a directory \n",
    "    tree by walking the tree either top-down or bottom-up. For each \n",
    "    directory in the tree rooted at directory top (including top itself), \n",
    "    it yields a 3-tuple (dirpath, dirnames, filenames).\n",
    "    \"\"\"\n",
    "    file_paths = [] \n",
    "\n",
    "    for root, directories, files in os.walk(directory):\n",
    "        for filename in files:\n",
    "            filepath = os.path.join(root, filename)\n",
    "            file_paths.append(filepath)\n",
    "\n",
    "    return file_paths \n",
    "\n",
    "def load_data(DIR_DATA_RAW, start, end):\n",
    "    \"\"\"Load data and label from the given directory path\n",
    "    \n",
    "    **Args**:\n",
    "    * DIR_DATA_RAW (string): Path to the raw directory\n",
    "    \n",
    "    **Return**:\n",
    "    * data (dataframe) \n",
    "    * label (dataframe)\n",
    "    \"\"\"\n",
    "    file_paths = get_filepaths(DIR_DATA_RAW)\n",
    "    file_paths = [path for path in file_paths if (path.endswith(\"Inputs\") or path.endswith(\"Targets\"))]\n",
    "    file_paths.sort()\n",
    "    \n",
    "    print(\"Loading data from: \")\n",
    "    for x in file_paths[start:end]:\n",
    "        print(x)\n",
    "        \n",
    "    data = pd.DataFrame()\n",
    "    label = pd.DataFrame()\n",
    "\n",
    "    for i in range(0, len(file_paths[:4]), 2):\n",
    "        cur_data = pd.read_csv(file_paths[i])\n",
    "        cur_label = pd.read_csv(file_paths[i+1], header=None)\n",
    "\n",
    "        data = pd.concat([data, cur_data])\n",
    "        label = pd.concat([label, cur_label])\n",
    "        \n",
    "    label.columns = ['label']\n",
    "    data = data.reset_index(drop=True)\n",
    "    label = label.reset_index(drop=True)\n",
    "    return data, label\n",
    "\n",
    "def remove_inconsistent_and_duplicates(data, label):\n",
    "    \"\"\" Remove inconsistent and duplicated data\n",
    "        Keeping the first occurence\n",
    "    \"\"\"\n",
    "    data = data.copy()\n",
    "    label = label.copy()\n",
    "    data['label'] = label['label']\n",
    "\n",
    "    check_duplicate = data.duplicated(keep='first')\n",
    "    data = data.loc[~check_duplicate]\n",
    "    label = label.loc[~check_duplicate]\n",
    "    data.drop('label', axis=1, inplace=True)\n",
    "\n",
    "    check_duplicate = data.duplicated(keep=False)\n",
    "    data = data.loc[~check_duplicate]\n",
    "    label = label.loc[~check_duplicate]\n",
    "\n",
    "    return data, label"
   ]
  },
  {
   "cell_type": "code",
   "execution_count": 3,
   "metadata": {},
   "outputs": [
    {
     "name": "stdout",
     "output_type": "stream",
     "text": [
      "Loading data from: \n",
      "../data/raw/DataminingContest2009.Task1.CV1.Test.Inputs\n",
      "../data/raw/DataminingContest2009.Task1.CV1.Test.Targets\n",
      "../data/raw/DataminingContest2009.Task1.CV1.Train.Inputs\n",
      "../data/raw/DataminingContest2009.Task1.CV1.Train.Targets\n"
     ]
    }
   ],
   "source": [
    "data1, label1 = load_data(DIR_DATA_RAW, 0, 4)\n",
    "data1, label1 = remove_inconsistent_and_duplicates(data1, label1)"
   ]
  },
  {
   "cell_type": "code",
   "execution_count": 4,
   "metadata": {},
   "outputs": [
    {
     "name": "stdout",
     "output_type": "stream",
     "text": [
      "Loading data from: \n",
      "../data/raw/DataminingContest2009.Task1.CV10.Test.Inputs\n",
      "../data/raw/DataminingContest2009.Task1.CV10.Test.Targets\n",
      "../data/raw/DataminingContest2009.Task1.CV10.Train.Inputs\n",
      "../data/raw/DataminingContest2009.Task1.CV10.Train.Targets\n"
     ]
    }
   ],
   "source": [
    "data2, label2 = load_data(DIR_DATA_RAW, 4, 8)\n",
    "data2, label2 = remove_inconsistent_and_duplicates(data2, label2)"
   ]
  },
  {
   "cell_type": "code",
   "execution_count": 5,
   "metadata": {},
   "outputs": [
    {
     "data": {
      "text/plain": [
       "True"
      ]
     },
     "execution_count": 5,
     "metadata": {},
     "output_type": "execute_result"
    }
   ],
   "source": [
    "data1.equals(data2)"
   ]
  },
  {
   "cell_type": "code",
   "execution_count": 6,
   "metadata": {},
   "outputs": [
    {
     "data": {
      "text/plain": [
       "True"
      ]
     },
     "execution_count": 6,
     "metadata": {},
     "output_type": "execute_result"
    }
   ],
   "source": [
    "label1.equals(label2)"
   ]
  },
  {
   "cell_type": "markdown",
   "metadata": {},
   "source": [
    "# Double check, Combine Data1 & Data2 then remove duplicate"
   ]
  },
  {
   "cell_type": "code",
   "execution_count": 7,
   "metadata": {},
   "outputs": [],
   "source": [
    "data3 = pd.concat([data1, data2])\n",
    "label3 = pd.concat([label1, label2])"
   ]
  },
  {
   "cell_type": "code",
   "execution_count": 8,
   "metadata": {},
   "outputs": [
    {
     "name": "stdout",
     "output_type": "stream",
     "text": [
      "(87429, 19)\n",
      "(87429, 19)\n",
      "(174858, 19)\n",
      "87429\n"
     ]
    }
   ],
   "source": [
    "print(data1.shape)\n",
    "print(data2.shape)\n",
    "print(data3.shape)\n",
    "print(data3.duplicated().sum())"
   ]
  },
  {
   "cell_type": "code",
   "execution_count": 9,
   "metadata": {},
   "outputs": [],
   "source": [
    "data3, label3 = remove_inconsistent_and_duplicates(data3, label3)"
   ]
  },
  {
   "cell_type": "code",
   "execution_count": 10,
   "metadata": {},
   "outputs": [
    {
     "data": {
      "text/plain": [
       "(87429, 19)"
      ]
     },
     "execution_count": 10,
     "metadata": {},
     "output_type": "execute_result"
    }
   ],
   "source": [
    "data3.shape"
   ]
  },
  {
   "cell_type": "code",
   "execution_count": 11,
   "metadata": {},
   "outputs": [
    {
     "data": {
      "text/plain": [
       "True"
      ]
     },
     "execution_count": 11,
     "metadata": {},
     "output_type": "execute_result"
    }
   ],
   "source": [
    "data3.equals(data1)"
   ]
  }
 ],
 "metadata": {
  "kernelspec": {
   "display_name": "Python 3",
   "language": "python",
   "name": "python3"
  },
  "language_info": {
   "codemirror_mode": {
    "name": "ipython",
    "version": 3
   },
   "file_extension": ".py",
   "mimetype": "text/x-python",
   "name": "python",
   "nbconvert_exporter": "python",
   "pygments_lexer": "ipython3",
   "version": "3.6.8"
  }
 },
 "nbformat": 4,
 "nbformat_minor": 2
}
